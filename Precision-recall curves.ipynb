{
 "cells": [
  {
   "cell_type": "code",
   "execution_count": 54,
   "metadata": {},
   "outputs": [
    {
     "name": "stderr",
     "output_type": "stream",
     "text": [
      "C:\\Users\\khang\\Anaconda3\\lib\\site-packages\\pandas\\core\\indexing.py:543: SettingWithCopyWarning: \n",
      "A value is trying to be set on a copy of a slice from a DataFrame.\n",
      "Try using .loc[row_indexer,col_indexer] = value instead\n",
      "\n",
      "See the caveats in the documentation: http://pandas.pydata.org/pandas-docs/stable/indexing.html#indexing-view-versus-copy\n",
      "  self.obj[item] = s\n"
     ]
    },
    {
     "name": "stdout",
     "output_type": "stream",
     "text": [
      ".\\9_500_500.xlsx Logistic: f1=0.802 auc=0.851\n"
     ]
    },
    {
     "name": "stderr",
     "output_type": "stream",
     "text": [
      "C:\\Users\\khang\\Anaconda3\\lib\\site-packages\\pandas\\core\\indexing.py:543: SettingWithCopyWarning: \n",
      "A value is trying to be set on a copy of a slice from a DataFrame.\n",
      "Try using .loc[row_indexer,col_indexer] = value instead\n",
      "\n",
      "See the caveats in the documentation: http://pandas.pydata.org/pandas-docs/stable/indexing.html#indexing-view-versus-copy\n",
      "  self.obj[item] = s\n"
     ]
    },
    {
     "name": "stdout",
     "output_type": "stream",
     "text": [
      ".\\9_750_250.xlsx Logistic: f1=0.822 auc=0.863\n"
     ]
    },
    {
     "name": "stderr",
     "output_type": "stream",
     "text": [
      "C:\\Users\\khang\\Anaconda3\\lib\\site-packages\\pandas\\core\\indexing.py:543: SettingWithCopyWarning: \n",
      "A value is trying to be set on a copy of a slice from a DataFrame.\n",
      "Try using .loc[row_indexer,col_indexer] = value instead\n",
      "\n",
      "See the caveats in the documentation: http://pandas.pydata.org/pandas-docs/stable/indexing.html#indexing-view-versus-copy\n",
      "  self.obj[item] = s\n"
     ]
    },
    {
     "name": "stdout",
     "output_type": "stream",
     "text": [
      ".\\9_1000_0.xlsx Logistic: f1=0.817 auc=0.860\n"
     ]
    },
    {
     "name": "stderr",
     "output_type": "stream",
     "text": [
      "C:\\Users\\khang\\Anaconda3\\lib\\site-packages\\pandas\\core\\indexing.py:543: SettingWithCopyWarning: \n",
      "A value is trying to be set on a copy of a slice from a DataFrame.\n",
      "Try using .loc[row_indexer,col_indexer] = value instead\n",
      "\n",
      "See the caveats in the documentation: http://pandas.pydata.org/pandas-docs/stable/indexing.html#indexing-view-versus-copy\n",
      "  self.obj[item] = s\n"
     ]
    },
    {
     "name": "stdout",
     "output_type": "stream",
     "text": [
      ".\\6_500_500.xlsx Logistic: f1=0.787 auc=0.841\n"
     ]
    },
    {
     "name": "stderr",
     "output_type": "stream",
     "text": [
      "C:\\Users\\khang\\Anaconda3\\lib\\site-packages\\pandas\\core\\indexing.py:543: SettingWithCopyWarning: \n",
      "A value is trying to be set on a copy of a slice from a DataFrame.\n",
      "Try using .loc[row_indexer,col_indexer] = value instead\n",
      "\n",
      "See the caveats in the documentation: http://pandas.pydata.org/pandas-docs/stable/indexing.html#indexing-view-versus-copy\n",
      "  self.obj[item] = s\n"
     ]
    },
    {
     "name": "stdout",
     "output_type": "stream",
     "text": [
      ".\\6_750_250.xlsx Logistic: f1=0.759 auc=0.824\n"
     ]
    },
    {
     "name": "stderr",
     "output_type": "stream",
     "text": [
      "C:\\Users\\khang\\Anaconda3\\lib\\site-packages\\pandas\\core\\indexing.py:543: SettingWithCopyWarning: \n",
      "A value is trying to be set on a copy of a slice from a DataFrame.\n",
      "Try using .loc[row_indexer,col_indexer] = value instead\n",
      "\n",
      "See the caveats in the documentation: http://pandas.pydata.org/pandas-docs/stable/indexing.html#indexing-view-versus-copy\n",
      "  self.obj[item] = s\n"
     ]
    },
    {
     "name": "stdout",
     "output_type": "stream",
     "text": [
      ".\\6_1000_0.xlsx Logistic: f1=0.792 auc=0.845\n"
     ]
    },
    {
     "name": "stderr",
     "output_type": "stream",
     "text": [
      "C:\\Users\\khang\\Anaconda3\\lib\\site-packages\\pandas\\core\\indexing.py:543: SettingWithCopyWarning: \n",
      "A value is trying to be set on a copy of a slice from a DataFrame.\n",
      "Try using .loc[row_indexer,col_indexer] = value instead\n",
      "\n",
      "See the caveats in the documentation: http://pandas.pydata.org/pandas-docs/stable/indexing.html#indexing-view-versus-copy\n",
      "  self.obj[item] = s\n"
     ]
    },
    {
     "name": "stdout",
     "output_type": "stream",
     "text": [
      ".\\3_500_500.xlsx Logistic: f1=0.653 auc=0.767\n"
     ]
    },
    {
     "name": "stderr",
     "output_type": "stream",
     "text": [
      "C:\\Users\\khang\\Anaconda3\\lib\\site-packages\\pandas\\core\\indexing.py:543: SettingWithCopyWarning: \n",
      "A value is trying to be set on a copy of a slice from a DataFrame.\n",
      "Try using .loc[row_indexer,col_indexer] = value instead\n",
      "\n",
      "See the caveats in the documentation: http://pandas.pydata.org/pandas-docs/stable/indexing.html#indexing-view-versus-copy\n",
      "  self.obj[item] = s\n"
     ]
    },
    {
     "name": "stdout",
     "output_type": "stream",
     "text": [
      ".\\3_750_250.xlsx Logistic: f1=0.593 auc=0.738\n",
      ".\\3_1000_0.xlsx Logistic: f1=0.643 auc=0.762\n",
      "['.\\\\9_500_500.xlsx', 0.8024948024948024]\n",
      "['.\\\\9_750_250.xlsx', 0.8220858895705522]\n",
      "['.\\\\9_1000_0.xlsx', 0.8172484599589321]\n",
      "['.\\\\6_500_500.xlsx', 0.7873684210526316]\n",
      "['.\\\\6_750_250.xlsx', 0.7586206896551725]\n",
      "['.\\\\6_1000_0.xlsx', 0.7924528301886793]\n",
      "['.\\\\3_500_500.xlsx', 0.6526806526806527]\n",
      "['.\\\\3_750_250.xlsx', 0.5931372549019608]\n",
      "['.\\\\3_1000_0.xlsx', 0.6431924882629109]\n"
     ]
    },
    {
     "name": "stderr",
     "output_type": "stream",
     "text": [
      "C:\\Users\\khang\\Anaconda3\\lib\\site-packages\\pandas\\core\\indexing.py:543: SettingWithCopyWarning: \n",
      "A value is trying to be set on a copy of a slice from a DataFrame.\n",
      "Try using .loc[row_indexer,col_indexer] = value instead\n",
      "\n",
      "See the caveats in the documentation: http://pandas.pydata.org/pandas-docs/stable/indexing.html#indexing-view-versus-copy\n",
      "  self.obj[item] = s\n"
     ]
    }
   ],
   "source": [
    "#guide https://www.statology.org/auc-in-python/\n",
    "#Step 1: Import Packages\n",
    "###############################################\n",
    "import pandas as pd\n",
    "import numpy as np\n",
    "from matplotlib import pyplot\n",
    "import xlsxwriter\n",
    "import os \n",
    "cwd = os.getcwd()\n",
    "os.chdir(cwd)\n",
    "# precision-recall curve and f1\n",
    "from sklearn.datasets import make_classification\n",
    "from sklearn.linear_model import LogisticRegression\n",
    "from sklearn.model_selection import train_test_split\n",
    "from sklearn.metrics import precision_recall_curve\n",
    "from sklearn.metrics import f1_score\n",
    "from sklearn.metrics import auc\n",
    "\n",
    "\n",
    "results = [\n",
    "    r\".\\9_500_500.xlsx\",\n",
    "    r\".\\9_750_250.xlsx\",\n",
    "    r\".\\9_1000_0.xlsx\",\n",
    "    r\".\\6_500_500.xlsx\",\n",
    "    r\".\\6_750_250.xlsx\",\n",
    "    r\".\\6_1000_0.xlsx\",\n",
    "    r\".\\3_500_500.xlsx\",\n",
    "    r\".\\3_750_250.xlsx\",\n",
    "    r\".\\3_1000_0.xlsx\"   \n",
    "]\n",
    "\n",
    "meta = [\n",
    "    r\".\\data\\9_500_500_meta.tsv\",\n",
    "    r\".\\data\\9_750_250_meta.tsv\",\n",
    "    r\".\\data\\9_1000_0_meta.tsv\",\n",
    "    r\".\\data\\6_500_500_meta.tsv\",\n",
    "    r\".\\data\\6_750_250_meta.tsv\",\n",
    "    r\".\\data\\6_1000_0_meta.tsv\",\n",
    "    r\".\\data\\3_500_500_meta.tsv\",\n",
    "    r\".\\data\\3_750_250_meta.tsv\",\n",
    "    r\".\\data\\3_1000_0_meta.tsv\"   \n",
    "]\n",
    "\n",
    "#input a=results b=meta\n",
    "#output AUC score\n",
    "def func(a, b):\n",
    "    #Step 1: Input files and preprocess\n",
    "    ###############################################    \n",
    "    #Add new column and assign 1 or 0.\n",
    "    results = pd.read_excel(a)\n",
    "    meta = pd.read_csv(b, sep='\\t')\n",
    "    \n",
    "    #for VoomLimma files\n",
    "    results.rename(columns={'p.value': 'pvalue'}, inplace=True)\n",
    "    results.rename(columns={'logFC': 'log2FoldChange'}, inplace=True)\n",
    "    #for EdgeR files\n",
    "    results.rename(columns={'PValue': 'pvalue'}, inplace=True)\n",
    "    results.rename(columns={'logFC': 'log2FoldChange'}, inplace=True)\n",
    "    \n",
    "    ##############################################################################################\n",
    "    #creates new column \"sig\"\n",
    "    #uses pvalue and logfold change to assign 1 or 0\n",
    "    #1000_1000 samples\n",
    "    if a[-8:-5] == \"0_0\":\n",
    "        results['sig']=''\n",
    "        results.loc[0:999,].loc[(results.pvalue <= 0.05) & (results.log2FoldChange >= 0),'sig']=1\n",
    "        results.loc[results.sig != 1,'sig']=0\n",
    "    \n",
    "    #500_500 samples\n",
    "    if a[-8:-5] == \"500\":\n",
    "        results['sig']=''\n",
    "        results.loc[0:499,].loc[(results.pvalue <= 0.05) & (results.log2FoldChange >= 0),'sig']=1\n",
    "        results.loc[500:999,].loc[(results.pvalue <= 0.05) & (results.log2FoldChange <= 0),'sig']=1\n",
    "        results.loc[results.sig != 1,'sig']=0\n",
    "        \n",
    "    #750_250 samples\n",
    "    if a[-8:-5] == \"250\":\n",
    "        results['sig']=''\n",
    "        results.loc[0:749,].loc[(results.pvalue <= 0.05) & (results.log2FoldChange >= 0),'sig']=1\n",
    "        results.loc[750:999,].loc[(results.pvalue <= 0.05) & (results.log2FoldChange <= 0),'sig']=1\n",
    "        results.loc[results.sig != 1,'sig']=0\n",
    "        \n",
    "#     print(results)\n",
    "    ##############################################################################################\n",
    "    \n",
    "    #Step 2: Fit the Logistic Regression Model\n",
    "    ###############################################\n",
    "    #define the predictor variables and the response variable\n",
    "    X = results[['sig']]\n",
    "    y = np.ravel(meta[['differential.expression']])\n",
    "\n",
    "    #split the dataset into training (70%) and testing (30%) sets\n",
    "    X_train,X_test,y_train,y_test = train_test_split(X,y,test_size=0.3,random_state=0)\n",
    "\n",
    "    #instantiate the model\n",
    "    log_regression = LogisticRegression(solver='lbfgs')\n",
    "\n",
    "    #fit the model using the training data\n",
    "    log_regression.fit(X_train,y_train)\n",
    "    \n",
    "    # predict probabilities\n",
    "    lr_probs = log_regression.predict_proba(X_test)\n",
    "    \n",
    "    # keep probabilities for the positive outcome only\n",
    "    lr_probs = lr_probs[:, 1]\n",
    "\n",
    "    #predict class values\n",
    "    yhat = log_regression.predict(X_test)\n",
    "    lr_precision, lr_recall, _ = precision_recall_curve(y_test, lr_probs)\n",
    "    lr_f1, lr_auc = f1_score(y_test, yhat), auc(lr_recall, lr_precision)\n",
    "\n",
    "    #use model to predict probability that given y value is 1\n",
    "    y_pred_proba = log_regression.predict_proba(X_test)[::,1]\n",
    "\n",
    "    # summarize scores\n",
    "    print(f'{a} Logistic: f1=%.3f auc=%.3f' % (lr_f1, lr_auc))\n",
    "    \n",
    "#     ### plot the precision-recall curves\n",
    "#     no_skill = len(y_test[y_test==1]) / len(y_test)\n",
    "#     pyplot.plot([0, 1], [no_skill, no_skill], linestyle='--', label='No Skill')\n",
    "#     pyplot.plot(lr_recall, lr_precision, marker='.', label='Logistic')\n",
    "#     ### axis labels\n",
    "#     pyplot.xlabel('Recall')\n",
    "#     pyplot.ylabel('Precision')\n",
    "#     ### show the legend\n",
    "#     pyplot.legend()\n",
    "#     ### show the plot\n",
    "#     pyplot.show()\n",
    "    \n",
    "    return lr_f1\n",
    "\n",
    "\n",
    "#generate list of AUCs\n",
    "resultsList = []\n",
    "for i in range(9):\n",
    "    \n",
    "    result = func(results[i],meta[i])\n",
    "    resultsList.append([results[i],result])\n",
    "    \n",
    "for i in resultsList:    \n",
    "    print(i)\n",
    "    \n",
    "#write to xlsx file\n",
    "#output: Results.xlsx\n",
    "\n",
    "workbook = xlsxwriter.Workbook('Results.xlsx')\n",
    "worksheet = workbook.add_worksheet()\n",
    "worksheet.set_column(0, 8, 16)\n",
    "\n",
    "for i in range(len(resultsList)):\n",
    "    worksheet.write(0,i, resultsList[i][0])\n",
    "    worksheet.write(1,i, resultsList[i][1])\n",
    "workbook.close()"
   ]
  }
 ],
 "metadata": {
  "kernelspec": {
   "display_name": "Python 3",
   "language": "python",
   "name": "python3"
  },
  "language_info": {
   "codemirror_mode": {
    "name": "ipython",
    "version": 3
   },
   "file_extension": ".py",
   "mimetype": "text/x-python",
   "name": "python",
   "nbconvert_exporter": "python",
   "pygments_lexer": "ipython3",
   "version": "3.7.3"
  }
 },
 "nbformat": 4,
 "nbformat_minor": 2
}
